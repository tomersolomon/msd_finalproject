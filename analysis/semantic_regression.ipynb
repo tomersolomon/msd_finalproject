{
 "cells": [
  {
   "cell_type": "code",
   "execution_count": 1,
   "metadata": {
    "collapsed": true,
    "deletable": true,
    "editable": true
   },
   "outputs": [],
   "source": [
    "import numpy as np\n",
    "import pandas as pd\n",
    "import matplotlib.pyplot as plt\n",
    "import seaborn \n",
    "\n",
    "from sklearn.linear_model import LinearRegression\n",
    "from sklearn.model_selection import train_test_split"
   ]
  },
  {
   "cell_type": "code",
   "execution_count": 5,
   "metadata": {
    "collapsed": false,
    "deletable": true,
    "editable": true
   },
   "outputs": [
    {
     "ename": "AttributeError",
     "evalue": "'module' object has no attribute 'save_fig'",
     "output_type": "error",
     "traceback": [
      "\u001b[0;31m---------------------------------------------------------------------------\u001b[0m",
      "\u001b[0;31mAttributeError\u001b[0m                            Traceback (most recent call last)",
      "\u001b[0;32m<ipython-input-5-15b380b8d8ae>\u001b[0m in \u001b[0;36m<module>\u001b[0;34m()\u001b[0m\n\u001b[1;32m     29\u001b[0m \u001b[0;34m\u001b[0m\u001b[0m\n\u001b[1;32m     30\u001b[0m \u001b[0maxes\u001b[0m\u001b[0;34m.\u001b[0m\u001b[0mplot\u001b[0m\u001b[0;34m(\u001b[0m\u001b[0mx\u001b[0m\u001b[0;34m,\u001b[0m \u001b[0my\u001b[0m\u001b[0;34m.\u001b[0m\u001b[0mreshape\u001b[0m\u001b[0;34m(\u001b[0m\u001b[0;34m(\u001b[0m\u001b[0mN\u001b[0m\u001b[0;34m)\u001b[0m\u001b[0;34m)\u001b[0m\u001b[0;34m,\u001b[0m \u001b[0;34m'r-'\u001b[0m\u001b[0;34m)\u001b[0m\u001b[0;34m\u001b[0m\u001b[0m\n\u001b[0;32m---> 31\u001b[0;31m \u001b[0mplt\u001b[0m\u001b[0;34m.\u001b[0m\u001b[0msave_fig\u001b[0m\u001b[0;34m(\u001b[0m\u001b[0;34m\"../plots/semantic_regression_time.pdf\"\u001b[0m\u001b[0;34m)\u001b[0m\u001b[0;34m\u001b[0m\u001b[0m\n\u001b[0m\u001b[1;32m     32\u001b[0m \u001b[0mplt\u001b[0m\u001b[0;34m.\u001b[0m\u001b[0mshow\u001b[0m\u001b[0;34m(\u001b[0m\u001b[0;34m)\u001b[0m\u001b[0;34m\u001b[0m\u001b[0m\n\u001b[1;32m     33\u001b[0m \u001b[0;34m\u001b[0m\u001b[0m\n",
      "\u001b[0;31mAttributeError\u001b[0m: 'module' object has no attribute 'save_fig'"
     ]
    }
   ],
   "source": [
    "semantic_data = pd.read_csv(\"../data/task-data/data_with_semantics_all_columns_100d.csv\")\n",
    "semantic_data.drop(\"Unnamed: 0\", axis=1, inplace=True) #remove weird column\n",
    "\n",
    "X_semantic_data = semantic_data.loc[semantic_data['durationInSec'] < 50]\n",
    "y_duration   = X_semantic_data['durationInSec']\n",
    "X_semantic_data = X_semantic_data['semantic_length']\n",
    "\n",
    "X_train, X_test, y_train, y_test = train_test_split(X_semantic_data, y_duration, \n",
    "                                                    test_size=0.2, random_state=42)\n",
    "\n",
    "X_train = X_train.reshape((X_train.shape[0], 1))\n",
    "X_test  = X_test.reshape((X_test.shape[0], 1))\n",
    "y_train = y_train.reshape((y_train.shape[0], 1))\n",
    "y_test  = y_test.reshape((y_test.shape[0], 1))\n",
    "\n",
    "\n",
    "path_LR = LinearRegression(fit_intercept=True, normalize=True)\n",
    "path_LR.fit(X_train, np.log(y_train))\n",
    "\n",
    "fig = plt.figure()\n",
    "axes = fig.add_subplot(1,1,1)\n",
    "axes.plot(X_test, np.log(y_test),'ko')\n",
    "axes.set_xlabel(\"semantic distance\")\n",
    "axes.set_ylabel(\"log of the time duration\")\n",
    "axes.set_title(\"semantic distance vs log of time (secs)\")\n",
    "N = 100\n",
    "x = np.linspace(0,1,N)\n",
    "y = path_LR.coef_ * x + path_LR.intercept_\n",
    "\n",
    "axes.plot(x, y.reshape((N)), 'r-')\n",
    "plt.savefig(\"../plots/semantic_regression_time.pdf\")\n",
    "plt.show()\n",
    "\n",
    "print path_LR.score(X_test, np.log(y_test))\n",
    "\n",
    "\n"
   ]
  },
  {
   "cell_type": "code",
   "execution_count": null,
   "metadata": {
    "collapsed": false,
    "deletable": true,
    "editable": true
   },
   "outputs": [],
   "source": [
    "semantic_data.head()"
   ]
  },
  {
   "cell_type": "code",
   "execution_count": 6,
   "metadata": {
    "collapsed": false,
    "deletable": true,
    "editable": true
   },
   "outputs": [
    {
     "ename": "AttributeError",
     "evalue": "'module' object has no attribute 'save_fig'",
     "output_type": "error",
     "traceback": [
      "\u001b[0;31m---------------------------------------------------------------------------\u001b[0m",
      "\u001b[0;31mAttributeError\u001b[0m                            Traceback (most recent call last)",
      "\u001b[0;32m<ipython-input-6-68ae11e292b7>\u001b[0m in \u001b[0;36m<module>\u001b[0;34m()\u001b[0m\n\u001b[1;32m     36\u001b[0m \u001b[0;34m\u001b[0m\u001b[0m\n\u001b[1;32m     37\u001b[0m \u001b[0maxes\u001b[0m\u001b[0;34m.\u001b[0m\u001b[0mplot\u001b[0m\u001b[0;34m(\u001b[0m\u001b[0mx\u001b[0m\u001b[0;34m,\u001b[0m \u001b[0my\u001b[0m\u001b[0;34m.\u001b[0m\u001b[0mreshape\u001b[0m\u001b[0;34m(\u001b[0m\u001b[0;34m(\u001b[0m\u001b[0mN\u001b[0m\u001b[0;34m)\u001b[0m\u001b[0;34m)\u001b[0m \u001b[0;34m,\u001b[0m \u001b[0;34m'r-'\u001b[0m\u001b[0;34m)\u001b[0m\u001b[0;34m\u001b[0m\u001b[0m\n\u001b[0;32m---> 38\u001b[0;31m \u001b[0mplt\u001b[0m\u001b[0;34m.\u001b[0m\u001b[0msave_fig\u001b[0m\u001b[0;34m(\u001b[0m\u001b[0;34m\"../plots/semantic_regression_length.pdf\"\u001b[0m\u001b[0;34m)\u001b[0m\u001b[0;34m\u001b[0m\u001b[0m\n\u001b[0m\u001b[1;32m     39\u001b[0m \u001b[0mplt\u001b[0m\u001b[0;34m.\u001b[0m\u001b[0mshow\u001b[0m\u001b[0;34m(\u001b[0m\u001b[0;34m)\u001b[0m\u001b[0;34m\u001b[0m\u001b[0m\n\u001b[1;32m     40\u001b[0m \u001b[0;34m\u001b[0m\u001b[0m\n",
      "\u001b[0;31mAttributeError\u001b[0m: 'module' object has no attribute 'save_fig'"
     ]
    }
   ],
   "source": [
    "semantic_data = pd.read_csv(\"../data/task-data/data_with_semantics_all_columns_100d.csv\")\n",
    "semantic_data.drop(\"Unnamed: 0\", axis=1, inplace=True) #remove weird column\n",
    "\n",
    "X_semantic_data = semantic_data.loc[semantic_data['pathlength']]\n",
    "y_pl   = X_semantic_data['pathlength']\n",
    "X_semantic_data = X_semantic_data['semantic_length']\n",
    "\n",
    "# X_train, X_test, y_train, y_test = train_test_split(X_semantic_data, \n",
    "#                                              y_pathlength, test_size=0.2, random_state=42)\n",
    "\n",
    "# X_train = X_train.reshape((X_train.shape[0], 1))\n",
    "# X_test  = X_test.reshape((X_test.shape[0], 1))\n",
    "# y_pl_train = y_pl_train.reshape((y_pl_train.shape[0], 1))\n",
    "# y_pl_test  = y_pl_test.reshape((y_pl_test.shape[0], 1))\n",
    "\n",
    "X_train, X_test, y_train, y_test = train_test_split(X_semantic_data, y_pl, \n",
    "                                                    test_size=0.2, random_state=42)\n",
    "\n",
    "X_train = X_train.reshape((X_train.shape[0], 1))\n",
    "X_test  = X_test.reshape((X_test.shape[0], 1))\n",
    "y_train = y_train.reshape((y_train.shape[0], 1))\n",
    "y_test  = y_test.reshape((y_test.shape[0], 1))\n",
    "\n",
    "path_LR = LinearRegression(fit_intercept=True, normalize=True)\n",
    "path_LR.fit(X_train, np.log(y_train))\n",
    "\n",
    "fig = plt.figure()\n",
    "axes = fig.add_subplot(1,1,1)\n",
    "axes.plot( X_test, np.log(y_test), 'ko' )\n",
    "axes.set_xlabel(\"semantic distance\")\n",
    "axes.set_ylabel(\"log(path length)\")\n",
    "axes.set_title(\"semantic distance vs log(path)\")\n",
    "N = 100\n",
    "x = np.linspace(0,1,N)\n",
    "y = path_LR.coef_ * x + path_LR.intercept_\n",
    "\n",
    "axes.plot(x, y.reshape((N)) , 'r-')\n",
    "plt.savefig(\"../plots/semantic_regression_length.pdf\")\n",
    "plt.show()\n",
    "\n",
    "print path_LR.score(X_test, np.log(y_test))"
   ]
  },
  {
   "cell_type": "markdown",
   "metadata": {
    "deletable": true,
    "editable": true
   },
   "source": []
  },
  {
   "cell_type": "code",
   "execution_count": null,
   "metadata": {
    "collapsed": true
   },
   "outputs": [],
   "source": []
  }
 ],
 "metadata": {
  "kernelspec": {
   "display_name": "Python 2",
   "language": "python",
   "name": "python2"
  },
  "language_info": {
   "codemirror_mode": {
    "name": "ipython",
    "version": 2
   },
   "file_extension": ".py",
   "mimetype": "text/x-python",
   "name": "python",
   "nbconvert_exporter": "python",
   "pygments_lexer": "ipython2",
   "version": "2.7.12"
  }
 },
 "nbformat": 4,
 "nbformat_minor": 2
}
